{
 "cells": [
  {
   "cell_type": "code",
   "execution_count": 1,
   "id": "29f4fbe2",
   "metadata": {},
   "outputs": [
    {
     "name": "stdout",
     "output_type": "stream",
     "text": [
      "%pylab is deprecated, use %matplotlib inline and import the required libraries.\n",
      "Populating the interactive namespace from numpy and matplotlib\n"
     ]
    }
   ],
   "source": [
    "import numpy as np\n",
    "import pandas as pd\n",
    "import matplotlib.pyplot as plt\n",
    "%matplotlib inline\n",
    "%pylab inline\n",
    "import seaborn as sns\n",
    "from pandas import read_csv\n",
    "from matplotlib import pyplot"
   ]
  },
  {
   "cell_type": "code",
   "execution_count": 2,
   "id": "f4e8a855",
   "metadata": {},
   "outputs": [
    {
     "data": {
      "text/html": [
       "<div>\n",
       "<style scoped>\n",
       "    .dataframe tbody tr th:only-of-type {\n",
       "        vertical-align: middle;\n",
       "    }\n",
       "\n",
       "    .dataframe tbody tr th {\n",
       "        vertical-align: top;\n",
       "    }\n",
       "\n",
       "    .dataframe thead th {\n",
       "        text-align: right;\n",
       "    }\n",
       "</style>\n",
       "<table border=\"1\" class=\"dataframe\">\n",
       "  <thead>\n",
       "    <tr style=\"text-align: right;\">\n",
       "      <th></th>\n",
       "      <th>Choice</th>\n",
       "      <th>A_follower_count</th>\n",
       "      <th>A_following_count</th>\n",
       "      <th>A_listed_count</th>\n",
       "      <th>A_mentions_received</th>\n",
       "      <th>A_retweets_received</th>\n",
       "      <th>A_mentions_sent</th>\n",
       "      <th>A_retweets_sent</th>\n",
       "      <th>A_posts</th>\n",
       "      <th>A_network_feature_1</th>\n",
       "      <th>...</th>\n",
       "      <th>B_following_count</th>\n",
       "      <th>B_listed_count</th>\n",
       "      <th>B_mentions_received</th>\n",
       "      <th>B_retweets_received</th>\n",
       "      <th>B_mentions_sent</th>\n",
       "      <th>B_retweets_sent</th>\n",
       "      <th>B_posts</th>\n",
       "      <th>B_network_feature_1</th>\n",
       "      <th>B_network_feature_2</th>\n",
       "      <th>B_network_feature_3</th>\n",
       "    </tr>\n",
       "  </thead>\n",
       "  <tbody>\n",
       "    <tr>\n",
       "      <th>0</th>\n",
       "      <td>0</td>\n",
       "      <td>228</td>\n",
       "      <td>302</td>\n",
       "      <td>3</td>\n",
       "      <td>0.583979</td>\n",
       "      <td>0.100503</td>\n",
       "      <td>0.100503</td>\n",
       "      <td>0.100503</td>\n",
       "      <td>0.362150</td>\n",
       "      <td>2</td>\n",
       "      <td>...</td>\n",
       "      <td>29808</td>\n",
       "      <td>1689</td>\n",
       "      <td>15.430498</td>\n",
       "      <td>3.984029</td>\n",
       "      <td>8.204331</td>\n",
       "      <td>0.332423</td>\n",
       "      <td>6.988815</td>\n",
       "      <td>66</td>\n",
       "      <td>75.530303</td>\n",
       "      <td>1916.893939</td>\n",
       "    </tr>\n",
       "    <tr>\n",
       "      <th>1</th>\n",
       "      <td>0</td>\n",
       "      <td>21591</td>\n",
       "      <td>1179</td>\n",
       "      <td>228</td>\n",
       "      <td>90.456506</td>\n",
       "      <td>25.798292</td>\n",
       "      <td>5.709329</td>\n",
       "      <td>1.111159</td>\n",
       "      <td>5.176620</td>\n",
       "      <td>369</td>\n",
       "      <td>...</td>\n",
       "      <td>848</td>\n",
       "      <td>1610</td>\n",
       "      <td>40.495021</td>\n",
       "      <td>8.943607</td>\n",
       "      <td>3.227677</td>\n",
       "      <td>0.564343</td>\n",
       "      <td>1.070321</td>\n",
       "      <td>163</td>\n",
       "      <td>132.030675</td>\n",
       "      <td>2931.515337</td>\n",
       "    </tr>\n",
       "    <tr>\n",
       "      <th>2</th>\n",
       "      <td>0</td>\n",
       "      <td>7310</td>\n",
       "      <td>1215</td>\n",
       "      <td>101</td>\n",
       "      <td>25.503644</td>\n",
       "      <td>9.556347</td>\n",
       "      <td>5.361519</td>\n",
       "      <td>0.591206</td>\n",
       "      <td>3.589718</td>\n",
       "      <td>95</td>\n",
       "      <td>...</td>\n",
       "      <td>482</td>\n",
       "      <td>206</td>\n",
       "      <td>0.734696</td>\n",
       "      <td>0.354379</td>\n",
       "      <td>0.603202</td>\n",
       "      <td>0.100503</td>\n",
       "      <td>0.603202</td>\n",
       "      <td>3</td>\n",
       "      <td>10.333333</td>\n",
       "      <td>277.333333</td>\n",
       "    </tr>\n",
       "    <tr>\n",
       "      <th>3</th>\n",
       "      <td>0</td>\n",
       "      <td>20</td>\n",
       "      <td>7</td>\n",
       "      <td>2</td>\n",
       "      <td>7.690824</td>\n",
       "      <td>0.277306</td>\n",
       "      <td>1.331508</td>\n",
       "      <td>0.100503</td>\n",
       "      <td>2.830627</td>\n",
       "      <td>6</td>\n",
       "      <td>...</td>\n",
       "      <td>17637</td>\n",
       "      <td>278</td>\n",
       "      <td>572.874856</td>\n",
       "      <td>390.293681</td>\n",
       "      <td>27.552040</td>\n",
       "      <td>7.167557</td>\n",
       "      <td>32.101906</td>\n",
       "      <td>1762</td>\n",
       "      <td>23.469296</td>\n",
       "      <td>1395.845634</td>\n",
       "    </tr>\n",
       "    <tr>\n",
       "      <th>4</th>\n",
       "      <td>1</td>\n",
       "      <td>45589</td>\n",
       "      <td>862</td>\n",
       "      <td>2641</td>\n",
       "      <td>148.854279</td>\n",
       "      <td>36.998884</td>\n",
       "      <td>27.881768</td>\n",
       "      <td>3.333492</td>\n",
       "      <td>23.861282</td>\n",
       "      <td>551</td>\n",
       "      <td>...</td>\n",
       "      <td>1711</td>\n",
       "      <td>181</td>\n",
       "      <td>21.601866</td>\n",
       "      <td>3.581661</td>\n",
       "      <td>6.764657</td>\n",
       "      <td>1.119727</td>\n",
       "      <td>4.563246</td>\n",
       "      <td>85</td>\n",
       "      <td>48.500000</td>\n",
       "      <td>1993.627907</td>\n",
       "    </tr>\n",
       "    <tr>\n",
       "      <th>...</th>\n",
       "      <td>...</td>\n",
       "      <td>...</td>\n",
       "      <td>...</td>\n",
       "      <td>...</td>\n",
       "      <td>...</td>\n",
       "      <td>...</td>\n",
       "      <td>...</td>\n",
       "      <td>...</td>\n",
       "      <td>...</td>\n",
       "      <td>...</td>\n",
       "      <td>...</td>\n",
       "      <td>...</td>\n",
       "      <td>...</td>\n",
       "      <td>...</td>\n",
       "      <td>...</td>\n",
       "      <td>...</td>\n",
       "      <td>...</td>\n",
       "      <td>...</td>\n",
       "      <td>...</td>\n",
       "      <td>...</td>\n",
       "      <td>...</td>\n",
       "    </tr>\n",
       "    <tr>\n",
       "      <th>5495</th>\n",
       "      <td>0</td>\n",
       "      <td>41765</td>\n",
       "      <td>185</td>\n",
       "      <td>1356</td>\n",
       "      <td>1529.643058</td>\n",
       "      <td>282.858500</td>\n",
       "      <td>76.809514</td>\n",
       "      <td>5.392171</td>\n",
       "      <td>104.438625</td>\n",
       "      <td>3307</td>\n",
       "      <td>...</td>\n",
       "      <td>1370</td>\n",
       "      <td>15143</td>\n",
       "      <td>6881.482996</td>\n",
       "      <td>5013.642295</td>\n",
       "      <td>22.683131</td>\n",
       "      <td>2.385538</td>\n",
       "      <td>18.420981</td>\n",
       "      <td>23958</td>\n",
       "      <td>21.324988</td>\n",
       "      <td>1413.825398</td>\n",
       "    </tr>\n",
       "    <tr>\n",
       "      <th>5496</th>\n",
       "      <td>1</td>\n",
       "      <td>112</td>\n",
       "      <td>243</td>\n",
       "      <td>5</td>\n",
       "      <td>1.445174</td>\n",
       "      <td>0.100503</td>\n",
       "      <td>0.100503</td>\n",
       "      <td>0.100503</td>\n",
       "      <td>0.603177</td>\n",
       "      <td>5</td>\n",
       "      <td>...</td>\n",
       "      <td>479</td>\n",
       "      <td>8</td>\n",
       "      <td>0.306073</td>\n",
       "      <td>0.306073</td>\n",
       "      <td>0.100503</td>\n",
       "      <td>0.100503</td>\n",
       "      <td>1.621981</td>\n",
       "      <td>1</td>\n",
       "      <td>49.000000</td>\n",
       "      <td>4969.000000</td>\n",
       "    </tr>\n",
       "    <tr>\n",
       "      <th>5497</th>\n",
       "      <td>0</td>\n",
       "      <td>15385</td>\n",
       "      <td>673</td>\n",
       "      <td>747</td>\n",
       "      <td>55.993546</td>\n",
       "      <td>22.321945</td>\n",
       "      <td>6.946233</td>\n",
       "      <td>0.341936</td>\n",
       "      <td>6.503977</td>\n",
       "      <td>202</td>\n",
       "      <td>...</td>\n",
       "      <td>1711</td>\n",
       "      <td>181</td>\n",
       "      <td>21.601866</td>\n",
       "      <td>3.581661</td>\n",
       "      <td>6.764657</td>\n",
       "      <td>1.119727</td>\n",
       "      <td>4.563246</td>\n",
       "      <td>85</td>\n",
       "      <td>48.500000</td>\n",
       "      <td>1993.627907</td>\n",
       "    </tr>\n",
       "    <tr>\n",
       "      <th>5498</th>\n",
       "      <td>0</td>\n",
       "      <td>265258</td>\n",
       "      <td>209</td>\n",
       "      <td>551</td>\n",
       "      <td>631.915946</td>\n",
       "      <td>457.648550</td>\n",
       "      <td>5.460985</td>\n",
       "      <td>0.100503</td>\n",
       "      <td>7.498126</td>\n",
       "      <td>2603</td>\n",
       "      <td>...</td>\n",
       "      <td>37601</td>\n",
       "      <td>22232</td>\n",
       "      <td>176.533716</td>\n",
       "      <td>42.330221</td>\n",
       "      <td>6.849227</td>\n",
       "      <td>1.345073</td>\n",
       "      <td>4.359865</td>\n",
       "      <td>696</td>\n",
       "      <td>234.338068</td>\n",
       "      <td>7168.464489</td>\n",
       "    </tr>\n",
       "    <tr>\n",
       "      <th>5499</th>\n",
       "      <td>0</td>\n",
       "      <td>628</td>\n",
       "      <td>921</td>\n",
       "      <td>6</td>\n",
       "      <td>3.943848</td>\n",
       "      <td>0.618590</td>\n",
       "      <td>4.769930</td>\n",
       "      <td>0.870136</td>\n",
       "      <td>2.953237</td>\n",
       "      <td>8</td>\n",
       "      <td>...</td>\n",
       "      <td>3109</td>\n",
       "      <td>12772</td>\n",
       "      <td>311.800311</td>\n",
       "      <td>142.633229</td>\n",
       "      <td>4.486090</td>\n",
       "      <td>1.049408</td>\n",
       "      <td>4.806823</td>\n",
       "      <td>1280</td>\n",
       "      <td>48.532819</td>\n",
       "      <td>1554.489575</td>\n",
       "    </tr>\n",
       "  </tbody>\n",
       "</table>\n",
       "<p>5500 rows × 23 columns</p>\n",
       "</div>"
      ],
      "text/plain": [
       "      Choice  A_follower_count  A_following_count  A_listed_count  \\\n",
       "0          0               228                302               3   \n",
       "1          0             21591               1179             228   \n",
       "2          0              7310               1215             101   \n",
       "3          0                20                  7               2   \n",
       "4          1             45589                862            2641   \n",
       "...      ...               ...                ...             ...   \n",
       "5495       0             41765                185            1356   \n",
       "5496       1               112                243               5   \n",
       "5497       0             15385                673             747   \n",
       "5498       0            265258                209             551   \n",
       "5499       0               628                921               6   \n",
       "\n",
       "      A_mentions_received  A_retweets_received  A_mentions_sent  \\\n",
       "0                0.583979             0.100503         0.100503   \n",
       "1               90.456506            25.798292         5.709329   \n",
       "2               25.503644             9.556347         5.361519   \n",
       "3                7.690824             0.277306         1.331508   \n",
       "4              148.854279            36.998884        27.881768   \n",
       "...                   ...                  ...              ...   \n",
       "5495          1529.643058           282.858500        76.809514   \n",
       "5496             1.445174             0.100503         0.100503   \n",
       "5497            55.993546            22.321945         6.946233   \n",
       "5498           631.915946           457.648550         5.460985   \n",
       "5499             3.943848             0.618590         4.769930   \n",
       "\n",
       "      A_retweets_sent     A_posts  A_network_feature_1  ...  \\\n",
       "0            0.100503    0.362150                    2  ...   \n",
       "1            1.111159    5.176620                  369  ...   \n",
       "2            0.591206    3.589718                   95  ...   \n",
       "3            0.100503    2.830627                    6  ...   \n",
       "4            3.333492   23.861282                  551  ...   \n",
       "...               ...         ...                  ...  ...   \n",
       "5495         5.392171  104.438625                 3307  ...   \n",
       "5496         0.100503    0.603177                    5  ...   \n",
       "5497         0.341936    6.503977                  202  ...   \n",
       "5498         0.100503    7.498126                 2603  ...   \n",
       "5499         0.870136    2.953237                    8  ...   \n",
       "\n",
       "      B_following_count  B_listed_count  B_mentions_received  \\\n",
       "0                 29808            1689            15.430498   \n",
       "1                   848            1610            40.495021   \n",
       "2                   482             206             0.734696   \n",
       "3                 17637             278           572.874856   \n",
       "4                  1711             181            21.601866   \n",
       "...                 ...             ...                  ...   \n",
       "5495               1370           15143          6881.482996   \n",
       "5496                479               8             0.306073   \n",
       "5497               1711             181            21.601866   \n",
       "5498              37601           22232           176.533716   \n",
       "5499               3109           12772           311.800311   \n",
       "\n",
       "      B_retweets_received  B_mentions_sent  B_retweets_sent    B_posts  \\\n",
       "0                3.984029         8.204331         0.332423   6.988815   \n",
       "1                8.943607         3.227677         0.564343   1.070321   \n",
       "2                0.354379         0.603202         0.100503   0.603202   \n",
       "3              390.293681        27.552040         7.167557  32.101906   \n",
       "4                3.581661         6.764657         1.119727   4.563246   \n",
       "...                   ...              ...              ...        ...   \n",
       "5495          5013.642295        22.683131         2.385538  18.420981   \n",
       "5496             0.306073         0.100503         0.100503   1.621981   \n",
       "5497             3.581661         6.764657         1.119727   4.563246   \n",
       "5498            42.330221         6.849227         1.345073   4.359865   \n",
       "5499           142.633229         4.486090         1.049408   4.806823   \n",
       "\n",
       "      B_network_feature_1  B_network_feature_2  B_network_feature_3  \n",
       "0                      66            75.530303          1916.893939  \n",
       "1                     163           132.030675          2931.515337  \n",
       "2                       3            10.333333           277.333333  \n",
       "3                    1762            23.469296          1395.845634  \n",
       "4                      85            48.500000          1993.627907  \n",
       "...                   ...                  ...                  ...  \n",
       "5495                23958            21.324988          1413.825398  \n",
       "5496                    1            49.000000          4969.000000  \n",
       "5497                   85            48.500000          1993.627907  \n",
       "5498                  696           234.338068          7168.464489  \n",
       "5499                 1280            48.532819          1554.489575  \n",
       "\n",
       "[5500 rows x 23 columns]"
      ]
     },
     "execution_count": 2,
     "metadata": {},
     "output_type": "execute_result"
    }
   ],
   "source": [
    "# Load data \n",
    "Twitter_Train = pd.read_csv(\"/Users/Suryansh/PycharmProjects/Social Media Analysis Twitter/train (1).csv\")\n",
    "Twitter_Train "
   ]
  },
  {
   "cell_type": "code",
   "execution_count": 3,
   "id": "81e8d7bf",
   "metadata": {},
   "outputs": [
    {
     "name": "stdout",
     "output_type": "stream",
     "text": [
      "<class 'pandas.core.frame.DataFrame'>\n",
      "RangeIndex: 5500 entries, 0 to 5499\n",
      "Data columns (total 23 columns):\n",
      " #   Column               Non-Null Count  Dtype  \n",
      "---  ------               --------------  -----  \n",
      " 0   Choice               5500 non-null   int64  \n",
      " 1   A_follower_count     5500 non-null   int64  \n",
      " 2   A_following_count    5500 non-null   int64  \n",
      " 3   A_listed_count       5500 non-null   int64  \n",
      " 4   A_mentions_received  5500 non-null   float64\n",
      " 5   A_retweets_received  5500 non-null   float64\n",
      " 6   A_mentions_sent      5500 non-null   float64\n",
      " 7   A_retweets_sent      5500 non-null   float64\n",
      " 8   A_posts              5500 non-null   float64\n",
      " 9   A_network_feature_1  5500 non-null   int64  \n",
      " 10  A_network_feature_2  5500 non-null   float64\n",
      " 11  A_network_feature_3  5500 non-null   float64\n",
      " 12  B_follower_count     5500 non-null   int64  \n",
      " 13  B_following_count    5500 non-null   int64  \n",
      " 14  B_listed_count       5500 non-null   int64  \n",
      " 15  B_mentions_received  5500 non-null   float64\n",
      " 16  B_retweets_received  5500 non-null   float64\n",
      " 17  B_mentions_sent      5500 non-null   float64\n",
      " 18  B_retweets_sent      5500 non-null   float64\n",
      " 19  B_posts              5500 non-null   float64\n",
      " 20  B_network_feature_1  5500 non-null   int64  \n",
      " 21  B_network_feature_2  5500 non-null   float64\n",
      " 22  B_network_feature_3  5500 non-null   float64\n",
      "dtypes: float64(14), int64(9)\n",
      "memory usage: 988.4 KB\n"
     ]
    }
   ],
   "source": [
    "Twitter_Train.info()"
   ]
  },
  {
   "cell_type": "code",
   "execution_count": 4,
   "id": "f885adbd",
   "metadata": {},
   "outputs": [
    {
     "data": {
      "text/html": [
       "<div>\n",
       "<style scoped>\n",
       "    .dataframe tbody tr th:only-of-type {\n",
       "        vertical-align: middle;\n",
       "    }\n",
       "\n",
       "    .dataframe tbody tr th {\n",
       "        vertical-align: top;\n",
       "    }\n",
       "\n",
       "    .dataframe thead th {\n",
       "        text-align: right;\n",
       "    }\n",
       "</style>\n",
       "<table border=\"1\" class=\"dataframe\">\n",
       "  <thead>\n",
       "    <tr style=\"text-align: right;\">\n",
       "      <th></th>\n",
       "      <th>Choice</th>\n",
       "      <th>A_follower_count</th>\n",
       "      <th>A_following_count</th>\n",
       "      <th>A_listed_count</th>\n",
       "      <th>A_mentions_received</th>\n",
       "      <th>A_retweets_received</th>\n",
       "      <th>A_mentions_sent</th>\n",
       "      <th>A_retweets_sent</th>\n",
       "      <th>A_posts</th>\n",
       "      <th>A_network_feature_1</th>\n",
       "      <th>...</th>\n",
       "      <th>B_following_count</th>\n",
       "      <th>B_listed_count</th>\n",
       "      <th>B_mentions_received</th>\n",
       "      <th>B_retweets_received</th>\n",
       "      <th>B_mentions_sent</th>\n",
       "      <th>B_retweets_sent</th>\n",
       "      <th>B_posts</th>\n",
       "      <th>B_network_feature_1</th>\n",
       "      <th>B_network_feature_2</th>\n",
       "      <th>B_network_feature_3</th>\n",
       "    </tr>\n",
       "  </thead>\n",
       "  <tbody>\n",
       "    <tr>\n",
       "      <th>count</th>\n",
       "      <td>5500.000000</td>\n",
       "      <td>5.500000e+03</td>\n",
       "      <td>5.500000e+03</td>\n",
       "      <td>5500.000000</td>\n",
       "      <td>5.500000e+03</td>\n",
       "      <td>5500.000000</td>\n",
       "      <td>5500.000000</td>\n",
       "      <td>5500.000000</td>\n",
       "      <td>5500.000000</td>\n",
       "      <td>5500.000000</td>\n",
       "      <td>...</td>\n",
       "      <td>5500.000000</td>\n",
       "      <td>5500.000000</td>\n",
       "      <td>5.500000e+03</td>\n",
       "      <td>5500.000000</td>\n",
       "      <td>5500.000000</td>\n",
       "      <td>5500.000000</td>\n",
       "      <td>5500.000000</td>\n",
       "      <td>5500.000000</td>\n",
       "      <td>5500.000000</td>\n",
       "      <td>5500.000000</td>\n",
       "    </tr>\n",
       "    <tr>\n",
       "      <th>mean</th>\n",
       "      <td>0.509455</td>\n",
       "      <td>6.498840e+05</td>\n",
       "      <td>1.265895e+04</td>\n",
       "      <td>5952.453273</td>\n",
       "      <td>2.666032e+03</td>\n",
       "      <td>1032.371839</td>\n",
       "      <td>6.011873</td>\n",
       "      <td>1.109924</td>\n",
       "      <td>9.090730</td>\n",
       "      <td>5267.768000</td>\n",
       "      <td>...</td>\n",
       "      <td>12738.259818</td>\n",
       "      <td>5903.148364</td>\n",
       "      <td>2.554598e+03</td>\n",
       "      <td>997.149954</td>\n",
       "      <td>6.099658</td>\n",
       "      <td>1.106236</td>\n",
       "      <td>9.505821</td>\n",
       "      <td>5254.933636</td>\n",
       "      <td>85.024196</td>\n",
       "      <td>3745.175480</td>\n",
       "    </tr>\n",
       "    <tr>\n",
       "      <th>std</th>\n",
       "      <td>0.499956</td>\n",
       "      <td>2.028787e+06</td>\n",
       "      <td>4.900867e+04</td>\n",
       "      <td>17339.141191</td>\n",
       "      <td>2.916543e+04</td>\n",
       "      <td>10954.953223</td>\n",
       "      <td>9.519797</td>\n",
       "      <td>1.910104</td>\n",
       "      <td>18.311060</td>\n",
       "      <td>28946.777345</td>\n",
       "      <td>...</td>\n",
       "      <td>50054.520874</td>\n",
       "      <td>16298.462018</td>\n",
       "      <td>2.508873e+04</td>\n",
       "      <td>9342.006880</td>\n",
       "      <td>9.729557</td>\n",
       "      <td>1.939914</td>\n",
       "      <td>19.424680</td>\n",
       "      <td>26778.820125</td>\n",
       "      <td>106.689384</td>\n",
       "      <td>5518.399590</td>\n",
       "    </tr>\n",
       "    <tr>\n",
       "      <th>min</th>\n",
       "      <td>0.000000</td>\n",
       "      <td>1.600000e+01</td>\n",
       "      <td>0.000000e+00</td>\n",
       "      <td>0.000000</td>\n",
       "      <td>1.005034e-01</td>\n",
       "      <td>0.100503</td>\n",
       "      <td>0.100503</td>\n",
       "      <td>0.100503</td>\n",
       "      <td>0.100503</td>\n",
       "      <td>0.000000</td>\n",
       "      <td>...</td>\n",
       "      <td>0.000000</td>\n",
       "      <td>0.000000</td>\n",
       "      <td>1.005034e-01</td>\n",
       "      <td>0.100503</td>\n",
       "      <td>0.100503</td>\n",
       "      <td>0.100503</td>\n",
       "      <td>0.100503</td>\n",
       "      <td>0.000000</td>\n",
       "      <td>0.000000</td>\n",
       "      <td>0.000000</td>\n",
       "    </tr>\n",
       "    <tr>\n",
       "      <th>25%</th>\n",
       "      <td>0.000000</td>\n",
       "      <td>2.663750e+03</td>\n",
       "      <td>3.220000e+02</td>\n",
       "      <td>85.000000</td>\n",
       "      <td>3.453649e+00</td>\n",
       "      <td>0.716816</td>\n",
       "      <td>0.359534</td>\n",
       "      <td>0.100503</td>\n",
       "      <td>0.632440</td>\n",
       "      <td>12.000000</td>\n",
       "      <td>...</td>\n",
       "      <td>322.000000</td>\n",
       "      <td>75.000000</td>\n",
       "      <td>3.260473e+00</td>\n",
       "      <td>0.714556</td>\n",
       "      <td>0.356943</td>\n",
       "      <td>0.100503</td>\n",
       "      <td>0.822584</td>\n",
       "      <td>11.000000</td>\n",
       "      <td>15.176568</td>\n",
       "      <td>1206.500000</td>\n",
       "    </tr>\n",
       "    <tr>\n",
       "      <th>50%</th>\n",
       "      <td>1.000000</td>\n",
       "      <td>4.558900e+04</td>\n",
       "      <td>7.780000e+02</td>\n",
       "      <td>932.000000</td>\n",
       "      <td>4.876542e+01</td>\n",
       "      <td>14.029113</td>\n",
       "      <td>2.299666</td>\n",
       "      <td>0.341936</td>\n",
       "      <td>3.555194</td>\n",
       "      <td>195.000000</td>\n",
       "      <td>...</td>\n",
       "      <td>773.000000</td>\n",
       "      <td>890.000000</td>\n",
       "      <td>4.876542e+01</td>\n",
       "      <td>14.029113</td>\n",
       "      <td>2.251398</td>\n",
       "      <td>0.341936</td>\n",
       "      <td>3.342999</td>\n",
       "      <td>190.000000</td>\n",
       "      <td>54.925234</td>\n",
       "      <td>2206.420734</td>\n",
       "    </tr>\n",
       "    <tr>\n",
       "      <th>75%</th>\n",
       "      <td>1.000000</td>\n",
       "      <td>3.927380e+05</td>\n",
       "      <td>2.838000e+03</td>\n",
       "      <td>6734.000000</td>\n",
       "      <td>3.498196e+02</td>\n",
       "      <td>118.704407</td>\n",
       "      <td>7.198330</td>\n",
       "      <td>1.320681</td>\n",
       "      <td>10.691878</td>\n",
       "      <td>1323.000000</td>\n",
       "      <td>...</td>\n",
       "      <td>2838.000000</td>\n",
       "      <td>6734.000000</td>\n",
       "      <td>3.743699e+02</td>\n",
       "      <td>107.081021</td>\n",
       "      <td>6.866840</td>\n",
       "      <td>1.320681</td>\n",
       "      <td>10.600502</td>\n",
       "      <td>1323.000000</td>\n",
       "      <td>112.191489</td>\n",
       "      <td>4349.908608</td>\n",
       "    </tr>\n",
       "    <tr>\n",
       "      <th>max</th>\n",
       "      <td>1.000000</td>\n",
       "      <td>3.654319e+07</td>\n",
       "      <td>1.165830e+06</td>\n",
       "      <td>549144.000000</td>\n",
       "      <td>1.145219e+06</td>\n",
       "      <td>435825.874241</td>\n",
       "      <td>76.809514</td>\n",
       "      <td>16.290540</td>\n",
       "      <td>193.072418</td>\n",
       "      <td>920838.000000</td>\n",
       "      <td>...</td>\n",
       "      <td>664324.000000</td>\n",
       "      <td>549144.000000</td>\n",
       "      <td>1.145219e+06</td>\n",
       "      <td>435825.874241</td>\n",
       "      <td>76.809514</td>\n",
       "      <td>16.290540</td>\n",
       "      <td>193.072418</td>\n",
       "      <td>920838.000000</td>\n",
       "      <td>1861.583333</td>\n",
       "      <td>75526.083333</td>\n",
       "    </tr>\n",
       "  </tbody>\n",
       "</table>\n",
       "<p>8 rows × 23 columns</p>\n",
       "</div>"
      ],
      "text/plain": [
       "            Choice  A_follower_count  A_following_count  A_listed_count  \\\n",
       "count  5500.000000      5.500000e+03       5.500000e+03     5500.000000   \n",
       "mean      0.509455      6.498840e+05       1.265895e+04     5952.453273   \n",
       "std       0.499956      2.028787e+06       4.900867e+04    17339.141191   \n",
       "min       0.000000      1.600000e+01       0.000000e+00        0.000000   \n",
       "25%       0.000000      2.663750e+03       3.220000e+02       85.000000   \n",
       "50%       1.000000      4.558900e+04       7.780000e+02      932.000000   \n",
       "75%       1.000000      3.927380e+05       2.838000e+03     6734.000000   \n",
       "max       1.000000      3.654319e+07       1.165830e+06   549144.000000   \n",
       "\n",
       "       A_mentions_received  A_retweets_received  A_mentions_sent  \\\n",
       "count         5.500000e+03          5500.000000      5500.000000   \n",
       "mean          2.666032e+03          1032.371839         6.011873   \n",
       "std           2.916543e+04         10954.953223         9.519797   \n",
       "min           1.005034e-01             0.100503         0.100503   \n",
       "25%           3.453649e+00             0.716816         0.359534   \n",
       "50%           4.876542e+01            14.029113         2.299666   \n",
       "75%           3.498196e+02           118.704407         7.198330   \n",
       "max           1.145219e+06        435825.874241        76.809514   \n",
       "\n",
       "       A_retweets_sent      A_posts  A_network_feature_1  ...  \\\n",
       "count      5500.000000  5500.000000          5500.000000  ...   \n",
       "mean          1.109924     9.090730          5267.768000  ...   \n",
       "std           1.910104    18.311060         28946.777345  ...   \n",
       "min           0.100503     0.100503             0.000000  ...   \n",
       "25%           0.100503     0.632440            12.000000  ...   \n",
       "50%           0.341936     3.555194           195.000000  ...   \n",
       "75%           1.320681    10.691878          1323.000000  ...   \n",
       "max          16.290540   193.072418        920838.000000  ...   \n",
       "\n",
       "       B_following_count  B_listed_count  B_mentions_received  \\\n",
       "count        5500.000000     5500.000000         5.500000e+03   \n",
       "mean        12738.259818     5903.148364         2.554598e+03   \n",
       "std         50054.520874    16298.462018         2.508873e+04   \n",
       "min             0.000000        0.000000         1.005034e-01   \n",
       "25%           322.000000       75.000000         3.260473e+00   \n",
       "50%           773.000000      890.000000         4.876542e+01   \n",
       "75%          2838.000000     6734.000000         3.743699e+02   \n",
       "max        664324.000000   549144.000000         1.145219e+06   \n",
       "\n",
       "       B_retweets_received  B_mentions_sent  B_retweets_sent      B_posts  \\\n",
       "count          5500.000000      5500.000000      5500.000000  5500.000000   \n",
       "mean            997.149954         6.099658         1.106236     9.505821   \n",
       "std            9342.006880         9.729557         1.939914    19.424680   \n",
       "min               0.100503         0.100503         0.100503     0.100503   \n",
       "25%               0.714556         0.356943         0.100503     0.822584   \n",
       "50%              14.029113         2.251398         0.341936     3.342999   \n",
       "75%             107.081021         6.866840         1.320681    10.600502   \n",
       "max          435825.874241        76.809514        16.290540   193.072418   \n",
       "\n",
       "       B_network_feature_1  B_network_feature_2  B_network_feature_3  \n",
       "count          5500.000000          5500.000000          5500.000000  \n",
       "mean           5254.933636            85.024196          3745.175480  \n",
       "std           26778.820125           106.689384          5518.399590  \n",
       "min               0.000000             0.000000             0.000000  \n",
       "25%              11.000000            15.176568          1206.500000  \n",
       "50%             190.000000            54.925234          2206.420734  \n",
       "75%            1323.000000           112.191489          4349.908608  \n",
       "max          920838.000000          1861.583333         75526.083333  \n",
       "\n",
       "[8 rows x 23 columns]"
      ]
     },
     "execution_count": 4,
     "metadata": {},
     "output_type": "execute_result"
    }
   ],
   "source": [
    "Twitter_Train.describe()"
   ]
  },
  {
   "cell_type": "code",
   "execution_count": 5,
   "id": "a40eb6e7",
   "metadata": {},
   "outputs": [
    {
     "name": "stdout",
     "output_type": "stream",
     "text": [
      "Any missing values in the dataset: False\n"
     ]
    }
   ],
   "source": [
    "print(\"Any missing values in the dataset:\", Twitter_Train.isnull().values.any())"
   ]
  },
  {
   "cell_type": "code",
   "execution_count": 23,
   "id": "b27baed1",
   "metadata": {},
   "outputs": [
    {
     "data": {
      "text/plain": [
       "[Text(0.5, 0, 'A_follower_count'),\n",
       " Text(1.5, 0, 'A_following_count'),\n",
       " Text(2.5, 0, 'A_listed_count'),\n",
       " Text(3.5, 0, 'A_mentions_received'),\n",
       " Text(4.5, 0, 'A_retweets_received'),\n",
       " Text(5.5, 0, 'A_mentions_sent'),\n",
       " Text(6.5, 0, 'A_retweets_sent'),\n",
       " Text(7.5, 0, 'A_posts'),\n",
       " Text(8.5, 0, 'A_network_feature_1'),\n",
       " Text(9.5, 0, 'A_network_feature_2'),\n",
       " Text(10.5, 0, 'A_network_feature_3')]"
      ]
     },
     "execution_count": 23,
     "metadata": {},
     "output_type": "execute_result"
    },
    {
     "data": {
      "image/png": "[encoded data removed]",
      "text/plain": [
       "<Figure size 640x480 with 2 Axes>"
      ]
     },
     "metadata": {},
     "output_type": "display_data"
    }
   ],
   "source": [
    "# Testing the correlation \n",
    "\n",
    "correlationA = Twitter_Train .iloc[:,1:12].corr(method = 'pearson')\n",
    "correlationA\n",
    "\n",
    "ax = sns.heatmap( \n",
    "    correlationA, \n",
    "    vmin=-1, vmax=1, center=0, \n",
    "    cmap=sns.diverging_palette(20, 220, n = 200),\n",
    "    square=True,\n",
    ")\n",
    "ax.set_xticklabels(  \n",
    "    ax.get_xticklabels(), \n",
    "    rotation=45, \n",
    "    horizontalalignment='right'\n",
    ")"
   ]
  },
  {
   "cell_type": "code",
   "execution_count": 7,
   "id": "10482634",
   "metadata": {},
   "outputs": [
    {
     "data": {
      "text/plain": [
       "[Text(0.5, 0, 'B_follower_count'),\n",
       " Text(1.5, 0, 'B_following_count'),\n",
       " Text(2.5, 0, 'B_listed_count'),\n",
       " Text(3.5, 0, 'B_mentions_received'),\n",
       " Text(4.5, 0, 'B_retweets_received'),\n",
       " Text(5.5, 0, 'B_mentions_sent'),\n",
       " Text(6.5, 0, 'B_retweets_sent'),\n",
       " Text(7.5, 0, 'B_posts'),\n",
       " Text(8.5, 0, 'B_network_feature_1'),\n",
       " Text(9.5, 0, 'B_network_feature_2'),\n",
       " Text(10.5, 0, 'B_network_feature_3')]"
      ]
     },
     "execution_count": 7,
     "metadata": {},
     "output_type": "execute_result"
    },
    {
     "data": {
      "image/png": "[encoded data removed]",
      "text/plain": [
       "<Figure size 640x480 with 2 Axes>"
      ]
     },
     "metadata": {},
     "output_type": "display_data"
    }
   ],
   "source": [
    "correlationB = Twitter_Train.iloc[:,12:23].corr(method='pearson')\n",
    "correlationB\n",
    "\n",
    "ax = sns.heatmap(\n",
    "    correlationB, \n",
    "    vmin=-1, vmax=1, center=0,\n",
    "    cmap=sns.diverging_palette(20, 220, n = 200),\n",
    "    square=True,\n",
    ")\n",
    "ax.set_xticklabels(\n",
    "    ax.get_xticklabels(),\n",
    "    rotation=45,\n",
    "    horizontalalignment='right'\n",
    ")"
   ]
  },
  {
   "cell_type": "code",
   "execution_count": 24,
   "id": "543760a3",
   "metadata": {},
   "outputs": [],
   "source": [
    "# To prepare the dataset for machine learning models, the dataset is divided into Test data and Train data. By creating a train and test split of your dataset helps in quickly evaluating the performance of an algorithm on your problem. The training dataset is used to prepare a model, to train it and the test dataset is new data where the output values are withheld from the algorithm. Transforming A and B individuals into A-B variables for better interpretation of the model.For the test data, values are selected from the data. For the train data, one variable is chosen to build the model. Here, the model is built upon the variable \"choice\". \n",
    "\n",
    "x = pd.DataFrame(Twitter_Train.iloc[:,1:10].values - Twitter_Train.iloc[:,10:19].values)\n",
    "x.columns = ['A/B_follower_count','A/B_following_count','A/B_listed_count','A/B_retweets_received',\n",
    "             'A/B_mentions_sent','A/B_retweets_sent','A/B_posts','A/B_network_feature_2','A/B_network_feature_3']\n",
    "y= Twitter_Train['Choice']"
   ]
  },
  {
   "cell_type": "code",
   "execution_count": 25,
   "id": "2df75019",
   "metadata": {},
   "outputs": [],
   "source": [
    "# The train_test_split function is for splitting a single dataset for two different purposes: training and testing. The testing subset is for building your model. The testing subset is for using the model on unknown data to evaluate the performance of the model.\n",
    "\n",
    "from sklearn.model_selection import train_test_split\n",
    "\n",
    "x_train , x_test, y_train, y_test = train_test_split (x, y, test_size = 0.30, random_state = 42)"
   ]
  },
  {
   "cell_type": "code",
   "execution_count": 26,
   "id": "9aa2bdf4",
   "metadata": {},
   "outputs": [
    {
     "name": "stdout",
     "output_type": "stream",
     "text": [
      "X_Train Shape: (3850, 9)\n",
      "Y_Train Shape: (3850,)\n",
      "X_Test Shape: (1650, 9)\n",
      "Y_Test Shape: (1650,)\n"
     ]
    }
   ],
   "source": [
    "# Looking at the shape of the data to test whether training features number of columns match testing feature number of columns.The number of rows to match for the respective training and testing features and the labels\n",
    "\n",
    "print('X_Train Shape:', x_train.shape)\n",
    "print('Y_Train Shape:', y_train.shape)\n",
    "print('X_Test Shape:', x_test.shape)\n",
    "print('Y_Test Shape:', y_test.shape)"
   ]
  },
  {
   "cell_type": "code",
   "execution_count": 13,
   "id": "16601f72",
   "metadata": {},
   "outputs": [
    {
     "name": "stdout",
     "output_type": "stream",
     "text": [
      "Requirement already satisfied: xgboost in c:\\users\\suryansh\\anaconda3\\lib\\site-packages (2.0.1)\n",
      "Requirement already satisfied: numpy in c:\\users\\suryansh\\anaconda3\\lib\\site-packages (from xgboost) (1.24.3)\n",
      "Requirement already satisfied: scipy in c:\\users\\suryansh\\anaconda3\\lib\\site-packages (from xgboost) (1.10.1)\n",
      "Note: you may need to restart the kernel to use updated packages.\n"
     ]
    }
   ],
   "source": [
    "pip install xgboost"
   ]
  },
  {
   "cell_type": "code",
   "execution_count": 27,
   "id": "30fefdbe",
   "metadata": {},
   "outputs": [
    {
     "name": "stdout",
     "output_type": "stream",
     "text": [
      "LR: 0.708571 (0.014122)\n",
      "KNN: 0.737922 (0.016322)\n",
      "CART: 0.705714 (0.023835)\n",
      "RF: 0.762338 (0.014566)\n",
      "NB: 0.547273 (0.013196)\n",
      "SVM: 0.523117 (0.006989)\n",
      "Xgboost: 0.752208 (0.016841)\n"
     ]
    }
   ],
   "source": [
    "# Spot Check Algorithms\n",
    "\n",
    "from sklearn.linear_model import LogisticRegression\n",
    "from sklearn.neighbors import KNeighborsClassifier\n",
    "from sklearn.tree import DecisionTreeClassifier\n",
    "from sklearn.ensemble import RandomForestClassifier\n",
    "from sklearn.naive_bayes import GaussianNB\n",
    "from sklearn.svm import SVC\n",
    "from xgboost import XGBClassifier\n",
    "from sklearn.model_selection import cross_val_score\n",
    "from sklearn.model_selection import StratifiedKFold\n",
    "\n",
    "\n",
    "models = []\n",
    "models.append(('LR', LogisticRegression(solver='liblinear', multi_class='ovr')))\n",
    "models.append(('KNN', KNeighborsClassifier()))\n",
    "models.append(('CART', DecisionTreeClassifier()))\n",
    "models.append((\"RF\", RandomForestClassifier()))\n",
    "models.append(('NB', GaussianNB()))\n",
    "models.append(('SVM', SVC(gamma='auto')))\n",
    "models.append(('Xgboost', XGBClassifier()))\n",
    "\n",
    "# evaluate each model in turn\n",
    "results = []\n",
    "names = []\n",
    "for name, model in models:\n",
    "    kfold = StratifiedKFold(n_splits=10, random_state=1, shuffle=True)\n",
    "    cv_results = cross_val_score(model, x_train, y_train, cv = kfold, scoring='accuracy')\n",
    "    results.append(cv_results)\n",
    "    names.append(name)\n",
    "    print('%s: %f (%f)' % (name, cv_results.mean(), cv_results.std()))"
   ]
  },
  {
   "cell_type": "code",
   "execution_count": 28,
   "id": "78242937",
   "metadata": {},
   "outputs": [
    {
     "name": "stdout",
     "output_type": "stream",
     "text": [
      "[False  True False False  True  True False False  True]\n",
      "[2 1 2 2 1 1 2 2 1]\n"
     ]
    }
   ],
   "source": [
    "# Logtistic Regression\n",
    "\n",
    "from sklearn.linear_model import LogisticRegression\n",
    "from sklearn.metrics import confusion_matrix, classification_report\n",
    "from sklearn.feature_selection import RFE\n",
    " \n",
    "\n",
    "model_logreg = LogisticRegression()\n",
    "rfe = RFE(model_logreg, step = 9)\n",
    "rfe = rfe.fit(x_train, y_train.values.ravel())\n",
    "print(rfe.support_)  \n",
    "print(rfe.ranking_)   "
   ]
  },
  {
   "cell_type": "code",
   "execution_count": 29,
   "id": "0efa0b58",
   "metadata": {},
   "outputs": [
    {
     "name": "stdout",
     "output_type": "stream",
     "text": [
      "Optimization terminated successfully.\n",
      "         Current function value: 0.625624\n",
      "         Iterations 6\n",
      "                           Results: Logit\n",
      "=====================================================================\n",
      "Model:               Logit             Pseudo R-squared:  0.097      \n",
      "Dependent Variable:  Choice            AIC:               6899.8665  \n",
      "Date:                2023-11-02 15:43  BIC:               6959.3790  \n",
      "No. Observations:    5500              Log-Likelihood:    -3440.9    \n",
      "Df Model:            8                 LL-Null:           -3811.3    \n",
      "Df Residuals:        5491              LLR p-value:       1.1797e-154\n",
      "Converged:           1.0000            Scale:             1.0000     \n",
      "No. Iterations:      6.0000                                          \n",
      "---------------------------------------------------------------------\n",
      "                       Coef.  Std.Err.    z    P>|z|   [0.025  0.975]\n",
      "---------------------------------------------------------------------\n",
      "A/B_follower_count     0.0000   0.0000 11.5580 0.0000  0.0000  0.0000\n",
      "A/B_following_count    0.0000   0.0000  1.8642 0.0623 -0.0000  0.0000\n",
      "A/B_listed_count      -0.0000   0.0000 -0.2372 0.8125 -0.0000  0.0000\n",
      "A/B_retweets_received -0.0000   0.0000 -2.1213 0.0339 -0.0000 -0.0000\n",
      "A/B_mentions_sent      0.0001   0.0000 12.3501 0.0000  0.0001  0.0001\n",
      "A/B_retweets_sent      0.0000   0.0000  0.0345 0.9725 -0.0000  0.0000\n",
      "A/B_posts              0.0000   0.0000  0.6897 0.4904 -0.0000  0.0001\n",
      "A/B_network_feature_2  0.0190   0.0018 10.4503 0.0000  0.0155  0.0226\n",
      "A/B_network_feature_3 -0.0000   0.0000 -8.6146 0.0000 -0.0000 -0.0000\n",
      "=====================================================================\n",
      "\n"
     ]
    }
   ],
   "source": [
    "import statsmodels.api as sm\n",
    "\n",
    "logit_model = sm.Logit(y,x)\n",
    "result = logit_model.fit()\n",
    "print(result.summary2())"
   ]
  },
  {
   "cell_type": "code",
   "execution_count": 30,
   "id": "d6d02967",
   "metadata": {},
   "outputs": [
    {
     "name": "stdout",
     "output_type": "stream",
     "text": [
      "Optimization terminated successfully.\n",
      "         Current function value: 0.618079\n",
      "         Iterations 6\n",
      "                           Results: Logit\n",
      "=====================================================================\n",
      "Model:               Logit             Pseudo R-squared:  0.108      \n",
      "Dependent Variable:  Choice            AIC:               4769.2079  \n",
      "Date:                2023-11-02 15:43  BIC:               4800.4870  \n",
      "No. Observations:    3850              Log-Likelihood:    -2379.6    \n",
      "Df Model:            4                 LL-Null:           -2667.5    \n",
      "Df Residuals:        3845              LLR p-value:       2.7700e-123\n",
      "Converged:           1.0000            Scale:             1.0000     \n",
      "No. Iterations:      6.0000                                          \n",
      "---------------------------------------------------------------------\n",
      "                       Coef.  Std.Err.    z    P>|z|   [0.025  0.975]\n",
      "---------------------------------------------------------------------\n",
      "A/B_follower_count     0.0000   0.0000 10.5261 0.0000  0.0000  0.0000\n",
      "A/B_retweets_received -0.0000   0.0000 -2.2968 0.0216 -0.0000 -0.0000\n",
      "A/B_mentions_sent      0.0001   0.0000 15.0594 0.0000  0.0001  0.0001\n",
      "A/B_network_feature_2  0.0220   0.0023  9.7371 0.0000  0.0176  0.0265\n",
      "A/B_network_feature_3 -0.0000   0.0000 -8.0290 0.0000 -0.0000 -0.0000\n",
      "=====================================================================\n",
      "\n"
     ]
    }
   ],
   "source": [
    "# Removing variables with p-values greater than 0.05 to improve the model \n",
    "\n",
    "columns_to_keep = ['A/B_follower_count', 'A/B_retweets_received', 'A/B_mentions_sent', \n",
    "                   'A/B_network_feature_2', 'A/B_network_feature_3']\n",
    "x = x_train[columns_to_keep]\n",
    "y = y_train \n",
    "\n",
    "logit_model = sm.Logit(y,x)\n",
    "result = logit_model.fit()\n",
    "print(result.summary2())"
   ]
  },
  {
   "cell_type": "code",
   "execution_count": 31,
   "id": "810b00b8",
   "metadata": {},
   "outputs": [],
   "source": [
    "# Logistic Regression Model Fitting \n",
    "\n",
    "model_logreg.fit(x_train, y_train)\n",
    "\n",
    "# Predicting test results \n",
    "\n",
    "y_pred = model_logreg.predict(x_test)"
   ]
  },
  {
   "cell_type": "code",
   "execution_count": 32,
   "id": "b860fb51",
   "metadata": {},
   "outputs": [
    {
     "name": "stdout",
     "output_type": "stream",
     "text": [
      "Training accuracy of Logistic Regression model: 0.7103896103896103\n",
      "Testing accuracy of Logistic Regression model: 0.7260606060606061\n"
     ]
    }
   ],
   "source": [
    "# Calculating the accuracy of our model \n",
    "\n",
    "print(\"Training accuracy of Logistic Regression model:\", model_logreg.score(x_train, y_train))\n",
    "print(\"Testing accuracy of Logistic Regression model:\", model_logreg.score(x_test, y_test))"
   ]
  },
  {
   "cell_type": "code",
   "execution_count": 34,
   "id": "9031ea8a",
   "metadata": {},
   "outputs": [
    {
     "name": "stdout",
     "output_type": "stream",
     "text": [
      "[[674 146]\n",
      " [306 524]]\n"
     ]
    }
   ],
   "source": [
    "# Confusion Matrix \n",
    "\n",
    "from sklearn.metrics import confusion_matrix, classification_report\n",
    "\n",
    "confusion_matrix = confusion_matrix (y_test,y_pred)\n",
    "print(confusion_matrix)"
   ]
  },
  {
   "cell_type": "code",
   "execution_count": 35,
   "id": "11ac0f67",
   "metadata": {},
   "outputs": [
    {
     "name": "stdout",
     "output_type": "stream",
     "text": [
      "              precision    recall  f1-score   support\n",
      "\n",
      "           0       0.69      0.82      0.75       820\n",
      "           1       0.78      0.63      0.70       830\n",
      "\n",
      "    accuracy                           0.73      1650\n",
      "   macro avg       0.73      0.73      0.72      1650\n",
      "weighted avg       0.74      0.73      0.72      1650\n",
      "\n"
     ]
    }
   ],
   "source": [
    "# Classification report will summarise our model by computing precision, recall, f-measure and support \n",
    "\n",
    "print(classification_report(y_test, y_pred))"
   ]
  },
  {
   "cell_type": "code",
   "execution_count": 36,
   "id": "7873f91a",
   "metadata": {},
   "outputs": [],
   "source": [
    "# Random Forest Classifier \n",
    "\n",
    "from sklearn.ensemble import RandomForestClassifier\n",
    "\n",
    "model_rf = RandomForestClassifier()\n",
    "model_rf.fit(x_train, y_train) #Train the model on training data \n",
    "\n",
    "# Predicting the test results \n",
    "  \n",
    "y_pred = model_rf.predict(x_test)"
   ]
  },
  {
   "cell_type": "code",
   "execution_count": 37,
   "id": "41dc9af5",
   "metadata": {},
   "outputs": [
    {
     "name": "stdout",
     "output_type": "stream",
     "text": [
      "Training accuracy of Random Forest model: 0.9937662337662337\n",
      "Testing accuracy of Random Forest model: 0.7715151515151515\n"
     ]
    }
   ],
   "source": [
    "# Calculating the accuracy of our model  \n",
    "\n",
    "print(\"Training accuracy of Random Forest model:\", model_rf.score(x_train, y_train))\n",
    "print(\"Testing accuracy of Random Forest model:\", model_rf.score(x_test, y_test))"
   ]
  },
  {
   "cell_type": "code",
   "execution_count": 38,
   "id": "1a629f46",
   "metadata": {},
   "outputs": [
    {
     "data": {
      "text/html": [
       "<div>\n",
       "<style scoped>\n",
       "    .dataframe tbody tr th:only-of-type {\n",
       "        vertical-align: middle;\n",
       "    }\n",
       "\n",
       "    .dataframe tbody tr th {\n",
       "        vertical-align: top;\n",
       "    }\n",
       "\n",
       "    .dataframe thead th {\n",
       "        text-align: right;\n",
       "    }\n",
       "</style>\n",
       "<table border=\"1\" class=\"dataframe\">\n",
       "  <thead>\n",
       "    <tr style=\"text-align: right;\">\n",
       "      <th></th>\n",
       "      <th>importance</th>\n",
       "    </tr>\n",
       "  </thead>\n",
       "  <tbody>\n",
       "    <tr>\n",
       "      <th>A/B_listed_count</th>\n",
       "      <td>0.147838</td>\n",
       "    </tr>\n",
       "    <tr>\n",
       "      <th>A/B_mentions_sent</th>\n",
       "      <td>0.147381</td>\n",
       "    </tr>\n",
       "    <tr>\n",
       "      <th>A/B_follower_count</th>\n",
       "      <td>0.140328</td>\n",
       "    </tr>\n",
       "    <tr>\n",
       "      <th>A/B_network_feature_3</th>\n",
       "      <td>0.136566</td>\n",
       "    </tr>\n",
       "    <tr>\n",
       "      <th>A/B_retweets_sent</th>\n",
       "      <td>0.120156</td>\n",
       "    </tr>\n",
       "    <tr>\n",
       "      <th>A/B_posts</th>\n",
       "      <td>0.088166</td>\n",
       "    </tr>\n",
       "    <tr>\n",
       "      <th>A/B_retweets_received</th>\n",
       "      <td>0.080374</td>\n",
       "    </tr>\n",
       "    <tr>\n",
       "      <th>A/B_network_feature_2</th>\n",
       "      <td>0.075846</td>\n",
       "    </tr>\n",
       "    <tr>\n",
       "      <th>A/B_following_count</th>\n",
       "      <td>0.063344</td>\n",
       "    </tr>\n",
       "  </tbody>\n",
       "</table>\n",
       "</div>"
      ],
      "text/plain": [
       "                       importance\n",
       "A/B_listed_count         0.147838\n",
       "A/B_mentions_sent        0.147381\n",
       "A/B_follower_count       0.140328\n",
       "A/B_network_feature_3    0.136566\n",
       "A/B_retweets_sent        0.120156\n",
       "A/B_posts                0.088166\n",
       "A/B_retweets_received    0.080374\n",
       "A/B_network_feature_2    0.075846\n",
       "A/B_following_count      0.063344"
      ]
     },
     "execution_count": 38,
     "metadata": {},
     "output_type": "execute_result"
    }
   ],
   "source": [
    "# To interpret the model and report the results, feature importances is used to quantify how much a particular variable improves predctions \n",
    "\n",
    "feature_importances = pd.DataFrame(model_rf.feature_importances_,\n",
    "                          index = x_train.columns, \n",
    "                          columns = ['importance']).sort_values('importance', ascending = False)\n",
    "feature_importances"
   ]
  },
  {
   "cell_type": "code",
   "execution_count": 39,
   "id": "13d9f600",
   "metadata": {},
   "outputs": [],
   "source": [
    "# Select features with importance larger than 0.08 \n",
    "\n",
    "columns_to_keep = ['A/B_mentions_sent', 'A/B_listed_count', 'A/B_follower_count', \n",
    "                   'A/B_network_feature_3', 'A/B_retweets_sent', 'A/B_posts']\n",
    "\n",
    "x = x_train[columns_to_keep]\n",
    "y = y_train \n",
    "\n",
    "model_rf = RandomForestClassifier() #New random forest classifier for the most important features \n",
    "model_rf.fit(x_train, y_train) #Train the model on training data \n",
    "\n",
    "# Predicting the test results \n",
    "\n",
    "y_pred = model_rf.predict(x_test)"
   ]
  },
  {
   "cell_type": "code",
   "execution_count": 40,
   "id": "63899dde",
   "metadata": {},
   "outputs": [
    {
     "name": "stdout",
     "output_type": "stream",
     "text": [
      "Training accuracy of Random Forest model: 0.9937662337662337\n",
      "Testing accuracy of Random Forest model: 0.7654545454545455\n"
     ]
    }
   ],
   "source": [
    "# Calculating the accuracy of the model \n",
    "\n",
    "print(\"Training accuracy of Random Forest model:\", model_rf.score(x_train, y_train))\n",
    "print(\"Testing accuracy of Random Forest model:\", model_rf.score(x_test, y_test))"
   ]
  },
  {
   "cell_type": "code",
   "execution_count": 41,
   "id": "c26b4768",
   "metadata": {},
   "outputs": [
    {
     "name": "stdout",
     "output_type": "stream",
     "text": [
      "[[622 198]\n",
      " [189 641]]\n"
     ]
    }
   ],
   "source": [
    "# Confusion Matrix \n",
    "\n",
    "from sklearn.metrics import confusion_matrix, classification_report\n",
    "\n",
    "conf_matrix = confusion_matrix (y_test,y_pred)\n",
    "print(conf_matrix)"
   ]
  },
  {
   "cell_type": "code",
   "execution_count": 42,
   "id": "21640fca",
   "metadata": {},
   "outputs": [
    {
     "name": "stdout",
     "output_type": "stream",
     "text": [
      "              precision    recall  f1-score   support\n",
      "\n",
      "           0       0.77      0.76      0.76       820\n",
      "           1       0.76      0.77      0.77       830\n",
      "\n",
      "    accuracy                           0.77      1650\n",
      "   macro avg       0.77      0.77      0.77      1650\n",
      "weighted avg       0.77      0.77      0.77      1650\n",
      "\n"
     ]
    }
   ],
   "source": [
    "# Classification report will summarise our model by computing precision, recall, f-measure and support \n",
    "\n",
    "print(classification_report(y_test, y_pred))"
   ]
  },
  {
   "cell_type": "code",
   "execution_count": 43,
   "id": "376abfe4",
   "metadata": {},
   "outputs": [],
   "source": [
    "# K-Nearest Neighbors\n",
    "\n",
    "from sklearn.neighbors import KNeighborsClassifier\n",
    "\n",
    "model_knn = KNeighborsClassifier(n_neighbors = 5, metric = 'euclidean')\n",
    "model_knn.fit(x_train, y_train)\n",
    "\n",
    "y_pred = model_knn.predict(x_test)"
   ]
  },
  {
   "cell_type": "code",
   "execution_count": 44,
   "id": "2e05ae3d",
   "metadata": {},
   "outputs": [
    {
     "name": "stdout",
     "output_type": "stream",
     "text": [
      "Training accuracy of K-Nearest Neighbors model: 0.8181818181818182\n",
      "Testing accuracy of K-Nearest Neighbors model: 0.7412121212121212\n"
     ]
    }
   ],
   "source": [
    "# Calculating training and testing of our model\n",
    "\n",
    "print(\"Training accuracy of K-Nearest Neighbors model:\", model_knn.score(x_train, y_train))\n",
    "print(\"Testing accuracy of K-Nearest Neighbors model:\", model_knn.score(x_test, y_test))"
   ]
  },
  {
   "cell_type": "code",
   "execution_count": 45,
   "id": "55726326",
   "metadata": {},
   "outputs": [
    {
     "name": "stdout",
     "output_type": "stream",
     "text": [
      "[[584 236]\n",
      " [191 639]]\n"
     ]
    }
   ],
   "source": [
    "# Confusion Matrix \n",
    "\n",
    "from sklearn.metrics import confusion_matrix, classification_report\n",
    "\n",
    "confusion_matrix = confusion_matrix(y_test, y_pred)\n",
    "print(confusion_matrix)"
   ]
  },
  {
   "cell_type": "code",
   "execution_count": 46,
   "id": "248fd977",
   "metadata": {},
   "outputs": [
    {
     "name": "stdout",
     "output_type": "stream",
     "text": [
      "              precision    recall  f1-score   support\n",
      "\n",
      "           0       0.75      0.71      0.73       820\n",
      "           1       0.73      0.77      0.75       830\n",
      "\n",
      "    accuracy                           0.74      1650\n",
      "   macro avg       0.74      0.74      0.74      1650\n",
      "weighted avg       0.74      0.74      0.74      1650\n",
      "\n"
     ]
    }
   ],
   "source": [
    "# Classification report will summarise our model by computing precision, recall, f-measure and support \n",
    "\n",
    "print(classification_report(y_test, y_pred))"
   ]
  },
  {
   "cell_type": "code",
   "execution_count": 47,
   "id": "1888ec87",
   "metadata": {},
   "outputs": [
    {
     "name": "stdout",
     "output_type": "stream",
     "text": [
      "XGBClassifier(base_score=None, booster=None, callbacks=None,\n",
      "              colsample_bylevel=None, colsample_bynode=None,\n",
      "              colsample_bytree=None, device=None, early_stopping_rounds=None,\n",
      "              enable_categorical=False, eta=0.3, eval_metric=None,\n",
      "              feature_types=None, gamma=None, grow_policy=None,\n",
      "              importance_type=None, interaction_constraints=None,\n",
      "              learning_rate=None, max_bin=None, max_cat_threshold=None,\n",
      "              max_cat_to_onehot=None, max_delta_step=None, max_depth=2,\n",
      "              max_leaves=None, min_child_weight=None, missing=nan,\n",
      "              monotone_constraints=None, multi_strategy=None, n_estimators=None,\n",
      "              n_jobs=None, num_parallel_tree=None, ...)\n"
     ]
    }
   ],
   "source": [
    "# XGBoost Classifier \n",
    "\n",
    "from xgboost import XGBClassifier\n",
    "from xgboost import plot_importance\n",
    "\n",
    "model_xgb = XGBClassifier(max_depth = 2, \n",
    "                          objective = 'binary:logistic',\n",
    "                          eta = 0.3\n",
    "                         )\n",
    "model_xgb\n",
    "\n",
    "model_xgb.fit(x_train, y_train)\n",
    "print(model_xgb)\n",
    "\n",
    "y_pred = model_xgb.predict(x_test)"
   ]
  },
  {
   "cell_type": "code",
   "execution_count": 48,
   "id": "03478f2c",
   "metadata": {},
   "outputs": [
    {
     "name": "stdout",
     "output_type": "stream",
     "text": [
      "Training accuracy of XGBoost model: 0.8163636363636364\n",
      "Testing accuracy of XGBoost model: 0.7872727272727272\n"
     ]
    },
    {
     "data": {
      "image/png": "[encoded data removed]",
      "text/plain": [
       "<Figure size 640x480 with 1 Axes>"
      ]
     },
     "metadata": {},
     "output_type": "display_data"
    }
   ],
   "source": [
    "# Calculating training and testing of our model\n",
    "\n",
    "print(\"Training accuracy of XGBoost model:\", model_xgb.score(x_train, y_train))\n",
    "print(\"Testing accuracy of XGBoost model:\", model_xgb.score(x_test, y_test))\n",
    "\n",
    "\n",
    "plot_importance(model_xgb, max_num_features=9)\n",
    "pyplot.show()"
   ]
  },
  {
   "cell_type": "code",
   "execution_count": 49,
   "id": "31aa40de",
   "metadata": {},
   "outputs": [
    {
     "data": {
      "image/png": "[encoded data removed]",
      "text/plain": [
       "<Figure size 640x480 with 1 Axes>"
      ]
     },
     "metadata": {},
     "output_type": "display_data"
    }
   ],
   "source": [
    "# Select the top 5 features and re-run the model \n",
    "\n",
    "from sklearn.metrics import confusion_matrix, classification_report\n",
    "\n",
    "cols = ['A/B_follower_count','A/B_network_feature_3','A/B_listed_count',  \n",
    "        'A/B_network_feature_2','A/B_retweets_received' ]\n",
    "x = x_train[cols]\n",
    "y = y_train \n",
    "\n",
    "\n",
    "model_xgb = XGBClassifier() #New xgb classifier for the most important features \n",
    "model_xgb.fit(x_train, y_train) #Train the model on training data \n",
    "\n",
    "#Predicting the test results\n",
    "\n",
    "y_pred = model_xgb.predict(x_test)\n",
    "\n",
    "plot_importance(model_xgb, max_num_features=5)\n",
    "pyplot.show()"
   ]
  },
  {
   "cell_type": "code",
   "execution_count": 50,
   "id": "c9b7ec1b",
   "metadata": {},
   "outputs": [
    {
     "name": "stdout",
     "output_type": "stream",
     "text": [
      "Training accuracy of XGBoost model: 0.9851948051948052\n",
      "Testing accuracy of XGBoost model: 0.7654545454545455\n"
     ]
    }
   ],
   "source": [
    "# Calculating the accuracy of the model \n",
    "\n",
    "print(\"Training accuracy of XGBoost model:\", model_xgb.score(x_train, y_train))\n",
    "print(\"Testing accuracy of XGBoost model:\", model_xgb.score(x_test, y_test))"
   ]
  },
  {
   "cell_type": "code",
   "execution_count": 51,
   "id": "567b8177",
   "metadata": {},
   "outputs": [
    {
     "name": "stdout",
     "output_type": "stream",
     "text": [
      "[[613 207]\n",
      " [180 650]]\n"
     ]
    }
   ],
   "source": [
    "# Confusion Matrix \n",
    "\n",
    "from sklearn.metrics import confusion_matrix, classification_report\n",
    "\n",
    "confusion_matrix = confusion_matrix(y_test, y_pred)\n",
    "print(confusion_matrix)"
   ]
  },
  {
   "cell_type": "code",
   "execution_count": 52,
   "id": "1f58e67d",
   "metadata": {},
   "outputs": [
    {
     "name": "stdout",
     "output_type": "stream",
     "text": [
      "              precision    recall  f1-score   support\n",
      "\n",
      "           0       0.77      0.75      0.76       820\n",
      "           1       0.76      0.78      0.77       830\n",
      "\n",
      "    accuracy                           0.77      1650\n",
      "   macro avg       0.77      0.77      0.77      1650\n",
      "weighted avg       0.77      0.77      0.77      1650\n",
      "\n"
     ]
    }
   ],
   "source": [
    "# Classification report will summarise our model by computing precision, recall, f-measure and support \n",
    "\n",
    "print(classification_report(y_test, y_pred))"
   ]
  },
  {
   "cell_type": "code",
   "execution_count": null,
   "id": "08813115",
   "metadata": {},
   "outputs": [],
   "source": []
  }
 ],
 "metadata": {
  "kernelspec": {
   "display_name": "Python 3 (ipykernel)",
   "language": "python",
   "name": "python3"
  },
  "language_info": {
   "codemirror_mode": {
    "name": "ipython",
    "version": 3
   },
   "file_extension": ".py",
   "mimetype": "text/x-python",
   "name": "python",
   "nbconvert_exporter": "python",
   "pygments_lexer": "ipython3",
   "version": "3.11.3"
  }
 },
 "nbformat": 4,
 "nbformat_minor": 5
}
